{
  "nbformat": 4,
  "nbformat_minor": 0,
  "metadata": {
    "colab": {
      "provenance": [],
      "authorship_tag": "ABX9TyNoVJis8Hcp9/LUNru95UG8",
      "include_colab_link": true
    },
    "kernelspec": {
      "name": "python3",
      "display_name": "Python 3"
    },
    "language_info": {
      "name": "python"
    }
  },
  "cells": [
    {
      "cell_type": "markdown",
      "metadata": {
        "id": "view-in-github",
        "colab_type": "text"
      },
      "source": [
        "<a href=\"https://colab.research.google.com/github/xieyunyu/Analysis/blob/main/%E5%85%AC%E5%8F%B8%E8%B2%A1%E5%A0%B1%E8%B3%87%E6%96%99.ipynb\" target=\"_parent\"><img src=\"https://colab.research.google.com/assets/colab-badge.svg\" alt=\"Open In Colab\"/></a>"
      ]
    },
    {
      "cell_type": "code",
      "metadata": {
        "id": "wnG1Bn0CUrHT"
      },
      "source": [
        "import Matplotlib\n",
        "import Mplfinance As Mpf\n",
        "\n",
        "import requests\n",
        "import pandas as pd\n",
        "import numpy\n",
        "import csv\n",
        "\n",
        "url = 'https://www.slickcharts.com/sp500'\n",
        "headers = {\"User-Agent\" : 'Mozilla/5.0 (Windows NT 10.0; Win64; x64) AppleWebKit/537.36 (KHTML, like Gecko) Chrome/83.0.4103.116 Safari/537.36'}\n",
        "\n",
        "request = requests.get(url, headers = headers)\n",
        "\n",
        "data = pd.read_html(request.text)[0]\n",
        "\n",
        "# 欄位『Symbol』就是股票代碼\n",
        "stk_list = data.Symbol\n",
        "\n",
        "# 用 replace 將符號進行替換\n",
        "stk_list = data.Symbol.apply(lambda x: x.replace('.', '-'))\n",
        "stk_list\n",
        "for i in stk_list[0]:51]:\n",
        ""
      ],
      "execution_count": null,
      "outputs": []
    }
  ]
}